{
  "nbformat": 4,
  "nbformat_minor": 0,
  "metadata": {
    "colab": {
      "provenance": [],
      "gpuType": "T4",
      "authorship_tag": "ABX9TyMGdJahp4oSai4O4JuxLKXq",
      "include_colab_link": true
    },
    "kernelspec": {
      "name": "python3",
      "display_name": "Python 3"
    },
    "language_info": {
      "name": "python"
    },
    "accelerator": "GPU",
    "gpuClass": "standard"
  },
  "cells": [
    {
      "cell_type": "markdown",
      "metadata": {
        "id": "view-in-github",
        "colab_type": "text"
      },
      "source": [
        "<a href=\"https://colab.research.google.com/github/mohith17/tada/blob/main/U1_C_to_F_model.ipynb\" target=\"_parent\"><img src=\"https://colab.research.google.com/assets/colab-badge.svg\" alt=\"Open In Colab\"/></a>"
      ]
    },
    {
      "cell_type": "markdown",
      "source": [
        "3 horizontal lines, in your book means the topic related to that feild is written or done in collab :)"
      ],
      "metadata": {
        "id": "HU5EddOLaJqF"
      }
    },
    {
      "cell_type": "code",
      "execution_count": 1,
      "metadata": {
        "colab": {
          "base_uri": "https://localhost:8080/"
        },
        "id": "p9_uICjKZvZO",
        "outputId": "248c7e92-7b59-4d38-c776-5cf3f9489c8e"
      },
      "outputs": [
        {
          "output_type": "stream",
          "name": "stdout",
          "text": [
            "Heads up!\n"
          ]
        }
      ],
      "source": [
        "print(\"Heads up!\")"
      ]
    },
    {
      "cell_type": "markdown",
      "source": [
        "now, i am going to work on the first model which will learn the conversion of c to f, like ya it is cool... f = c*1.8 + 32\n",
        "\n",
        "\n",
        "but we are not gonna use the fomula, instead we use the ml from tf :)\n",
        "\n",
        "first importing tf, (and it is better to tell tf to only log error messages ^_^)"
      ],
      "metadata": {
        "id": "vljw9-0Tn_m7"
      }
    },
    {
      "cell_type": "code",
      "source": [
        "import tensorflow as tf\n",
        "#tf.logging.set_verbosity(tf.logging.ERROR)\n",
        "\n",
        "#prev*2 line is little diff, in tfv2 the following has been made \"tf.logging to tf.compat.v1.logging\"\n",
        "# NOTE: This fix does not work for bert-as-a-service. – \n",
        "# Lucas Azevedo\n",
        "#  Mar 2, 2021 at 14:55\n",
        "#for ref \"https://stackoverflow.com/questions/55318626/module-tensorflow-has-no-attribute-logging\"\n",
        "tf.compat.v1.logging.set_verbosity(tf.compat.v1.logging.ERROR)\n",
        "\n",
        "import numpy as np"
      ],
      "metadata": {
        "id": "wnElwJkeoHFj"
      },
      "execution_count": 2,
      "outputs": []
    },
    {
      "cell_type": "markdown",
      "source": [
        "Setting up trainning data:"
      ],
      "metadata": {
        "id": "lxsS1J7Osbq6"
      }
    },
    {
      "cell_type": "code",
      "source": [
        "celsius_q = np.array( [ -40, -10, 0, 8, 15, 22, 38 ], dtype=float )\n",
        "fahrenheit_a = np.array( [ -40, 14, 32, 46, 59, 72, 100 ], dtype=float )\n",
        "\n",
        "for i,c in enumerate(celsius_q):\n",
        "  print( \"{} degree Celsius = {} degree Farenheit\".format(c, fahrenheit_a[i] ) )"
      ],
      "metadata": {
        "colab": {
          "base_uri": "https://localhost:8080/"
        },
        "id": "e3LfUdAIseNK",
        "outputId": "f8266d5b-30eb-48f9-80bd-cb383cbadc60"
      },
      "execution_count": 3,
      "outputs": [
        {
          "output_type": "stream",
          "name": "stdout",
          "text": [
            "-40.0 degree Celsius = -40.0 degree Farenheit\n",
            "-10.0 degree Celsius = 14.0 degree Farenheit\n",
            "0.0 degree Celsius = 32.0 degree Farenheit\n",
            "8.0 degree Celsius = 46.0 degree Farenheit\n",
            "15.0 degree Celsius = 59.0 degree Farenheit\n",
            "22.0 degree Celsius = 72.0 degree Farenheit\n",
            "38.0 degree Celsius = 100.0 degree Farenheit\n"
          ]
        }
      ]
    },
    {
      "cell_type": "markdown",
      "source": [
        "okay know this, \n",
        "I/P are called \"features\"\n",
        "O/P are called \"labels\"\n",
        "Pairs we use to train are called \"examples\""
      ],
      "metadata": {
        "id": "ZtgfM2NwtylX"
      }
    },
    {
      "cell_type": "markdown",
      "source": [
        "Creating a model, \n",
        "which will have single dense layer \n",
        "you can see 1 as input which in this case is c values,\n",
        "units specify how many internal variables (a.k.a weights) the model has...\n",
        "\n",
        "more details in future, just remember the word units."
      ],
      "metadata": {
        "id": "PLi84cYDuGww"
      }
    },
    {
      "cell_type": "code",
      "source": [
        "l0 = tf.keras.layers.Dense(units=1, input_shape=[1])"
      ],
      "metadata": {
        "id": "YNQYnZ3xtp1y"
      },
      "execution_count": 4,
      "outputs": []
    },
    {
      "cell_type": "markdown",
      "source": [
        "Assemble layers into model,\n",
        "\n",
        "the sequential model definition takes a list of layers as aruguments, specifying the caliculation order from the input to output."
      ],
      "metadata": {
        "id": "SvPqk52-vBTI"
      }
    },
    {
      "cell_type": "code",
      "source": [
        "model = tf.keras.Sequential([l0])"
      ],
      "metadata": {
        "id": "T2WtASLJuicL"
      },
      "execution_count": 5,
      "outputs": []
    },
    {
      "cell_type": "markdown",
      "source": [
        "note : we often see the layers directly defined in model rather than pre defining. but good to follow."
      ],
      "metadata": {
        "id": "DqYhGVAlvedp"
      }
    },
    {
      "cell_type": "markdown",
      "source": [
        "Next step :: is to COMPILE THE MODEL"
      ],
      "metadata": {
        "id": "Lh-_0OTSvvR-"
      }
    },
    {
      "cell_type": "markdown",
      "source": [
        "here we specify 2 parameters, loss function and optimizer function.\n",
        "tf uses them during trainin to find the best model.\n",
        "\n",
        "finding best model involves numerical annalysis, and tf encapsulates all the complexity going on ...\n",
        "\n",
        "for this kinda prob, we can specify the ms-error and adam optimizer, \n",
        "the 0.1 is called the learning rate, (it tells how aggresively it shd find the best model, any value between 0.1 to 0.001 ->  (will make sense))"
      ],
      "metadata": {
        "id": "1xpN7LSpwGo1"
      }
    },
    {
      "cell_type": "code",
      "source": [
        "#model.compile(loss='mean_squared_error', optimizer=tf.keras.optimizers.Adam(0.1))\n",
        "#i just want to take the learning rate to 0.001\n",
        "model.compile(loss='mean_squared_error', optimizer=tf.keras.optimizers.Adam(0.001))"
      ],
      "metadata": {
        "id": "ic5onxlivmfQ"
      },
      "execution_count": 6,
      "outputs": []
    },
    {
      "cell_type": "markdown",
      "source": [
        "Next step :: TRAIN THE MODEL\n",
        "\n",
        "we use the \"fit\" method, here the weights are intially set to random, and the diff btw actual and desired output will be caliculated by the loss function and ooptimizer directs how the weights shd be adjusted."
      ],
      "metadata": {
        "id": "8g1tJa07xNse"
      }
    },
    {
      "cell_type": "code",
      "source": [
        "history = model.fit(celsius_q, fahrenheit_a, epochs=500, verbose=False)\n",
        "print(\"Done training\")"
      ],
      "metadata": {
        "colab": {
          "base_uri": "https://localhost:8080/"
        },
        "id": "QKm3BwWlwCkN",
        "outputId": "aaecf4ce-0c65-45d9-bd62-6fddee241049"
      },
      "execution_count": 7,
      "outputs": [
        {
          "output_type": "stream",
          "name": "stdout",
          "text": [
            "Done training\n"
          ]
        }
      ]
    },
    {
      "cell_type": "markdown",
      "source": [
        "1 epoch is full iteration of the examples we gave,\n",
        "so now we have 7 examples, the model will train 3500 examples;\n",
        "\n",
        "also to the future mohith i know u remember this verbose=False meaning hinding the unnecessary info, like give easy out\n",
        "\n",
        "if it is not set we will get an additional output as \n",
        "\n",
        "Epoch 1/500\n",
        "\n",
        "1/1 [==============================] - 0s 11ms/step - loss: 4997.6177\n",
        "\n",
        "\n",
        "Epoch 2/500\n",
        "\n",
        "1/1 [==============================] - 0s 10ms/step - loss: 4994.7471"
      ],
      "metadata": {
        "id": "1ykGhTkAygWc"
      }
    },
    {
      "cell_type": "markdown",
      "source": [
        "Model is done!!!\n",
        "\n",
        "Now let's see some MODEL STATASTICS.\n",
        "\n",
        "using matplotlib"
      ],
      "metadata": {
        "id": "vvxXakLWzl2c"
      }
    },
    {
      "cell_type": "code",
      "source": [
        "import matplotlib.pyplot as plt\n",
        "plt.xlabel('Epoch Number')\n",
        "plt.ylabel('Loss Magnitude')\n",
        "plt.plot(history.history['loss'])"
      ],
      "metadata": {
        "colab": {
          "base_uri": "https://localhost:8080/",
          "height": 466
        },
        "id": "aECoE1-Syfo4",
        "outputId": "52141557-87b7-45a4-adcb-db9ea3b03209"
      },
      "execution_count": 8,
      "outputs": [
        {
          "output_type": "execute_result",
          "data": {
            "text/plain": [
              "[<matplotlib.lines.Line2D at 0x7fc9c17a9f00>]"
            ]
          },
          "metadata": {},
          "execution_count": 8
        },
        {
          "output_type": "display_data",
          "data": {
            "text/plain": [
              "<Figure size 640x480 with 1 Axes>"
            ],
            "image/png": "[encoded data removed]"
          },
          "metadata": {}
        }
      ]
    },
    {
      "cell_type": "markdown",
      "source": [
        "wowww,, we got a straight line cause we used the optimizer value as 0.001\n",
        "\n",
        "let's see for when we use 0.1 ^_^"
      ],
      "metadata": {
        "id": "qgScEhSv0HeM"
      }
    },
    {
      "cell_type": "code",
      "source": [
        "#This code block is used just for sample not related to main model\n",
        "\n",
        "model_temp = tf.keras.Sequential([l0])\n",
        "model_temp.compile(loss='mean_squared_error', optimizer=tf.keras.optimizers.Adam(0.1))\n",
        "history_temp = model_temp.fit(celsius_q, fahrenheit_a, epochs=500, verbose=False)\n",
        "print(\"Done training\")\n",
        "import matplotlib.pyplot as plt\n",
        "plt.xlabel('Epoch Number')\n",
        "plt.ylabel('Loss Magnitude')\n",
        "plt.plot(history_temp.history['loss'])"
      ],
      "metadata": {
        "colab": {
          "base_uri": "https://localhost:8080/",
          "height": 484
        },
        "id": "YplxnnUS0EwF",
        "outputId": "eb49a211-2830-4011-a6a2-3a66051f090d"
      },
      "execution_count": 10,
      "outputs": [
        {
          "output_type": "stream",
          "name": "stdout",
          "text": [
            "Done training\n"
          ]
        },
        {
          "output_type": "execute_result",
          "data": {
            "text/plain": [
              "[<matplotlib.lines.Line2D at 0x7fc9c018ce20>]"
            ]
          },
          "metadata": {},
          "execution_count": 10
        },
        {
          "output_type": "display_data",
          "data": {
            "text/plain": [
              "<Figure size 640x480 with 1 Axes>"
            ],
            "image/png": "[encoded data removed]"
          },
          "metadata": {}
        }
      ]
    },
    {
      "cell_type": "markdown",
      "source": [
        "not a regular drop but we end up with the results, also you can observe the error raising too..."
      ],
      "metadata": {
        "id": "cUByvb4D2Dcz"
      }
    },
    {
      "cell_type": "markdown",
      "source": [
        "Next step :: USING THE MODEL\n",
        "\n",
        "we use the predict method,, lets predict for 100c, 200c,. (i'll update the ans after done) "
      ],
      "metadata": {
        "id": "oXKnxYD935f4"
      }
    },
    {
      "cell_type": "code",
      "source": [
        "print(model.predict([100.0]))\n",
        "print(model.predict([200.0], verbose=False))"
      ],
      "metadata": {
        "colab": {
          "base_uri": "https://localhost:8080/"
        },
        "id": "M1pXJVlg062b",
        "outputId": "1f14c0c3-4776-49d0-b7bc-e879e2827e1e"
      },
      "execution_count": 15,
      "outputs": [
        {
          "output_type": "stream",
          "name": "stdout",
          "text": [
            "1/1 [==============================] - 0s 33ms/step\n",
            "[[211.74744]]\n",
            "[[391.54233]]\n"
          ]
        }
      ]
    },
    {
      "cell_type": "markdown",
      "source": [
        "well the answes are :\n",
        "\n",
        "1/1 [==============================] - 0s 33ms/step  (this line cause of verbose is default True)\n",
        "\n",
        "[[211.74744]]   actually 212 very close,\n",
        "\n",
        "[[391.54233]]   it is 392 very close lol.\n",
        "\n",
        "maybe i found the actual values lollll <3 okayyyy gn"
      ],
      "metadata": {
        "id": "F8hV4jWs41Tp"
      }
    },
    {
      "cell_type": "markdown",
      "source": [
        "***\n",
        "\n",
        "now the fun part, we can now print the internal variables/weights of our dense layers... by exe the following\n",
        "\n",
        "layer_name.get_weights()"
      ],
      "metadata": {
        "id": "IKt58DgS7BLt"
      }
    },
    {
      "cell_type": "code",
      "source": [
        "print(\"These are the layer variables: {}\".format(l0.get_weights()))"
      ],
      "metadata": {
        "colab": {
          "base_uri": "https://localhost:8080/"
        },
        "id": "i26gAsJy7CWR",
        "outputId": "dfee76b2-c266-4ac4-fdf7-edeb24e1a95e"
      },
      "execution_count": 16,
      "outputs": [
        {
          "output_type": "stream",
          "name": "stdout",
          "text": [
            "These are the layer variables: [array([[1.7979491]], dtype=float32), array([31.952524], dtype=float32)]\n"
          ]
        }
      ]
    },
    {
      "cell_type": "markdown",
      "source": [
        "we can see 2 values \"1.7979491\" and \"31.952524\"\n",
        "\n",
        "loll, do u remeber the formulae?? f = c * 1.8 + 32\n",
        "\n",
        "this model is gooood,, \n",
        "\n",
        "*** ***\n",
        "\n",
        "we are dealing with ml, how is it fun if it is normalll....so let's do another exeperiment."
      ],
      "metadata": {
        "id": "1XYL3TUn7uwP"
      }
    },
    {
      "cell_type": "code",
      "source": [
        "l1 = tf.keras.layers.Dense(units=4, input_shape=[1])\n",
        "l2 = tf.keras.layers.Dense(units=4)\n",
        "l3 = tf.keras.layers.Dense(units=1)\n",
        "\n",
        "model2 = tf.keras.Sequential([l1,l2,l3])\n",
        "\n",
        "model2.compile(loss='mean_squared_error', optimizer=tf.keras.optimizers.Adam(0.001))\n",
        "\n",
        "model2.fit(celsius_q, fahrenheit_a, epochs=500, verbose=False)\n",
        "print(\"Training done\")\n",
        "\n",
        "print(\"for 100c the model predicts the f as : \" + str(model.predict([100.0], verbose=False)))\n",
        "print(\"for 200c the model predicts the f as : \" + str(model.predict([200.0], verbose=False)))\n",
        "print(\"\\n\\n\\n\")\n",
        "print(\"These are the layer variables of layer l1: \\n {}\".format(l1.get_weights()))\n",
        "print(\"These are the layer variables of layer l2: \\n {}\".format(l2.get_weights()))\n",
        "print(\"These are the layer variables of layer l3: \\n {}\".format(l3.get_weights()))"
      ],
      "metadata": {
        "colab": {
          "base_uri": "https://localhost:8080/"
        },
        "id": "nbsVPtgW7mwv",
        "outputId": "98be8147-433a-46a6-f266-89537a2f80d1"
      },
      "execution_count": 18,
      "outputs": [
        {
          "output_type": "stream",
          "name": "stdout",
          "text": [
            "Training done\n",
            "for 100c the model predicts the f as : [[211.74744]]\n",
            "for 200c the model predicts the f as : [[391.54233]]\n",
            "\n",
            "\n",
            "\n",
            "\n",
            "These are the layer variables of layer l1: \n",
            " [array([[-0.5525095 ,  0.24861474,  1.2130418 , -0.5823168 ]],\n",
            "      dtype=float32), array([-0.55542964,  0.6054104 ,  0.58329403,  0.41508132], dtype=float32)]\n",
            "These are the layer variables of layer l2: \n",
            " [array([[-0.65932673,  0.27493665, -0.079199  , -0.67849916],\n",
            "       [ 0.53705156, -0.04416859, -1.1753227 ,  1.1004804 ],\n",
            "       [-0.24047796,  0.11139627, -0.7706167 ,  1.0225854 ],\n",
            "       [ 0.4167985 ,  0.3800055 , -0.4620046 ,  0.5510567 ]],\n",
            "      dtype=float32), array([ 0.3414678 ,  0.4036775 , -0.52673876,  0.4935675 ], dtype=float32)]\n",
            "These are the layer variables of layer l3: \n",
            " [array([[ 0.15282533],\n",
            "       [ 0.6120002 ],\n",
            "       [-0.60846865],\n",
            "       [ 1.0600809 ]], dtype=float32), array([0.43593702], dtype=float32)]\n"
          ]
        }
      ]
    },
    {
      "cell_type": "markdown",
      "source": [
        "Broo...... the complexity of the above thing is toooooo much lol,\n",
        "\n",
        "but nahhh, like i learned the thing about this is it is trying to figure out the best model,\n",
        "\n",
        "like it has given a matrix like we said in layers and filling it with values until we are getting the answer and moving forward\n",
        "\n",
        "maybe it is still in the format of y=mx+c\n",
        "\n",
        "but the values of m and c are matrix of order 4*4*1 i guess ---> (let's see what future hold)"
      ],
      "metadata": {
        "id": "NTV5nkZT-L8u"
      }
    },
    {
      "cell_type": "markdown",
      "source": [
        "## Kinda glossary lol\n",
        "\n",
        "Feature: The input(s) to our model\n",
        "\n",
        "Examples: An input/output pair used for training\n",
        "\n",
        "Labels: The output of the model\n",
        "\n",
        "Layer: A collection of nodes connected together within a neural network.\n",
        "\n",
        "Model: The representation of your neural network\n",
        "\n",
        "Dense and Fully Connected (FC): Each node in one layer is connected to each node in the previous layer.\n",
        "\n",
        "Weights and biases: The internal variables of model\n",
        "\n",
        "Loss: The discrepancy between the desired output and the actual output\n",
        "\n",
        "MSE: Mean squared error, a type of loss function that counts a small number of large discrepancies as worse than a large number of small ones.\n",
        "\n",
        "Gradient Descent: An algorithm that changes the internal variables a bit at a time to gradually reduce the loss function.\n",
        "\n",
        "Optimizer: A specific implementation of the gradient descent algorithm. (There are many algorithms for this. In this course we will only use the “Adam” Optimizer, which stands for ADAptive with Momentum. It is considered the best-practice optimizer.)\n",
        "\n",
        "Learning rate: The “step size” for loss improvement during gradient descent.\n",
        "\n",
        "Batch: The set of examples used during training of the neural network\n",
        "\n",
        "Epoch: A full pass over the entire training dataset\n",
        "\n",
        "Forward pass: The computation of output values from input\n",
        "\n",
        "Backward pass (backpropagation): The calculation of internal variable adjustments according to the optimizer algorithm, starting from the output layer and working back through each layer to the input."
      ],
      "metadata": {
        "id": "WCUQ60t2_SaF"
      }
    },
    {
      "cell_type": "code",
      "source": [],
      "metadata": {
        "id": "JzJmD99m_d6e"
      },
      "execution_count": null,
      "outputs": []
    }
  ]
}